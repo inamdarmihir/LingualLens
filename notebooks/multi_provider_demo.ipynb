{
 "cells": [
  {
   "cell_type": "markdown",
   "metadata": {},
   "source": [
    "# LingualLens: Multi-Provider Model Support Demo",
    "",
    "This notebook demonstrates using models from Hugging Face, OpenAI, Google, and Anthropic."
   ]
  }
 ],
 "metadata": {
  "kernelspec": {
   "display_name": "Python 3",
   "language": "python",
   "name": "python3"
  }
 },
 "nbformat": 4,
 "nbformat_minor": 4
}